{
  "nbformat": 4,
  "nbformat_minor": 0,
  "metadata": {
    "colab": {
      "provenance": [],
      "authorship_tag": "ABX9TyMLlvleNOwB+lzF9Cbe61Ls",
      "include_colab_link": true
    },
    "kernelspec": {
      "name": "python3",
      "display_name": "Python 3"
    },
    "language_info": {
      "name": "python"
    }
  },
  "cells": [
    {
      "cell_type": "markdown",
      "metadata": {
        "id": "view-in-github",
        "colab_type": "text"
      },
      "source": [
        "<a href=\"https://colab.research.google.com/github/sallytakeda/github-basic-kadai/blob/main/kadai_005.ipynb\" target=\"_parent\"><img src=\"https://colab.research.google.com/assets/colab-badge.svg\" alt=\"Open In Colab\"/></a>"
      ]
    },
    {
      "cell_type": "markdown",
      "source": [],
      "metadata": {
        "id": "XXIDZfKPt2Xj"
      }
    },
    {
      "cell_type": "code",
      "source": [
        "# 前提条件\n",
        "top_base = 10     # 上辺（cm）\n",
        "bottom_base = 20  # 下辺（cm）\n",
        "height = 5        # 高さ（cm）\n",
        "\n",
        "# 台形の面積の計算\n",
        "area = (top_base + bottom_base) * height / 2\n",
        "\n",
        "# 結果の表示\n",
        "print(f\"台形の面積は {area} 平方cm です。\")"
      ],
      "metadata": {
        "id": "O7Sfl34X5ss3",
        "outputId": "8a4c7719-ac41-4a81-b0db-210f36817446",
        "colab": {
          "base_uri": "https://localhost:8080/"
        }
      },
      "execution_count": null,
      "outputs": [
        {
          "output_type": "stream",
          "name": "stdout",
          "text": [
            "台形の面積は 75.0 平方cm です。\n"
          ]
        }
      ]
    }
  ]
}