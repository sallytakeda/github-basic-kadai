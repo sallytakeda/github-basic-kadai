{
  "nbformat": 4,
  "nbformat_minor": 0,
  "metadata": {
    "colab": {
      "provenance": [],
      "authorship_tag": "ABX9TyMkYT6ez4H0ZuQmf1oL3GIT",
      "include_colab_link": true
    },
    "kernelspec": {
      "name": "python3",
      "display_name": "Python 3"
    },
    "language_info": {
      "name": "python"
    }
  },
  "cells": [
    {
      "cell_type": "markdown",
      "metadata": {
        "id": "view-in-github",
        "colab_type": "text"
      },
      "source": [
        "<a href=\"https://colab.research.google.com/github/sallytakeda/github-basic-kadai/blob/main/Untitled0.ipynb\" target=\"_parent\"><img src=\"https://colab.research.google.com/assets/colab-badge.svg\" alt=\"Open In Colab\"/></a>"
      ]
    },
    {
      "cell_type": "code",
      "execution_count": 3,
      "metadata": {
        "colab": {
          "base_uri": "https://localhost:8080/"
        },
        "id": "S4B7o1b8gY2N",
        "outputId": "0e5cc654-afbf-4b93-e201-a2e4ef7114a3"
      },
      "outputs": [
        {
          "output_type": "stream",
          "name": "stdout",
          "text": [
            "税込み金額 121.0\n"
          ]
        }
      ],
      "source": [
        "# 消費税を加えた金額を計算する関数\n",
        "def calculate_total_price(price,tax_rate):\n",
        "  total = price + (price * tax_rate / 100)\n",
        "  return total # 戻り値で結果を返す\n",
        "\n",
        "# 関数の呼び出し\n",
        "product_price = 110    # 第一引数 : 商品の金額\n",
        "tax_percentage = 10    # 第二引数 : 消費税 (%)\n",
        "\n",
        "# 関数を使用して合計金額を取得\n",
        "total_price = calculate_total_price(product_price,tax_percentage)\n",
        "\n",
        "# 結果の出力\n",
        "print(\"税込み金額\", total_price)"
      ]
    },
    {
      "cell_type": "code",
      "source": [],
      "metadata": {
        "id": "5uME4FIlihrG"
      },
      "execution_count": null,
      "outputs": []
    }
  ]
}