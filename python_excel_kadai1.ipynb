{
  "nbformat": 4,
  "nbformat_minor": 0,
  "metadata": {
    "colab": {
      "provenance": [],
      "authorship_tag": "ABX9TyOWaQKMr/F7wjtcXPo+8UtM",
      "include_colab_link": true
    },
    "kernelspec": {
      "name": "python3",
      "display_name": "Python 3"
    },
    "language_info": {
      "name": "python"
    }
  },
  "cells": [
    {
      "cell_type": "markdown",
      "metadata": {
        "id": "view-in-github",
        "colab_type": "text"
      },
      "source": [
        "<a href=\"https://colab.research.google.com/github/sallytakeda/github-basic-kadai/blob/main/python_excel_kadai1.ipynb\" target=\"_parent\"><img src=\"https://colab.research.google.com/assets/colab-badge.svg\" alt=\"Open In Colab\"/></a>"
      ]
    },
    {
      "cell_type": "code",
      "execution_count": 1,
      "metadata": {
        "colab": {
          "base_uri": "https://localhost:8080/"
        },
        "id": "dYX50kDOyDy6",
        "outputId": "f76ab62b-dfa6-4072-b2f5-d0a32257aa6f"
      },
      "outputs": [
        {
          "output_type": "stream",
          "name": "stdout",
          "text": [
            "Requirement already satisfied: numpy in /usr/local/lib/python3.12/dist-packages (2.0.2)\n",
            "Requirement already satisfied: pandas in /usr/local/lib/python3.12/dist-packages (2.2.2)\n",
            "Requirement already satisfied: numpy>=1.26.0 in /usr/local/lib/python3.12/dist-packages (from pandas) (2.0.2)\n",
            "Requirement already satisfied: python-dateutil>=2.8.2 in /usr/local/lib/python3.12/dist-packages (from pandas) (2.9.0.post0)\n",
            "Requirement already satisfied: pytz>=2020.1 in /usr/local/lib/python3.12/dist-packages (from pandas) (2025.2)\n",
            "Requirement already satisfied: tzdata>=2022.7 in /usr/local/lib/python3.12/dist-packages (from pandas) (2025.2)\n",
            "Requirement already satisfied: six>=1.5 in /usr/local/lib/python3.12/dist-packages (from python-dateutil>=2.8.2->pandas) (1.17.0)\n",
            "Requirement already satisfied: openpyxl in /usr/local/lib/python3.12/dist-packages (3.1.5)\n",
            "Requirement already satisfied: et-xmlfile in /usr/local/lib/python3.12/dist-packages (from openpyxl) (2.0.0)\n"
          ]
        }
      ],
      "source": [
        "!pip install numpy\n",
        "!pip install pandas\n",
        "!pip install openpyxl"
      ]
    },
    {
      "cell_type": "code",
      "source": [
        "from openpyxl import Workbook\n",
        "from openpyxl.styles import Alignment, Font\n",
        "\n",
        "# 新しいExcelファイル作成\n",
        "wb = Workbook()\n",
        "ws = wb.active\n",
        "\n",
        "# データ入力\n",
        "ws[\"B2\"] = \"請求書\"\n",
        "ws[\"B4\"] = \"株式会社ABC\"\n",
        "ws[\"B5\"] = \"〒101-0022 東京都千代田区神田練塀町300\"\n",
        "ws[\"B6\"] = \"TEL:03-1234-5678 FAX:03-1234-5678\"\n",
        "ws[\"B7\"] = \"担当者名:鈴木一郎 様\"\n",
        "\n",
        "ws[\"F4\"] = \"No.\"\n",
        "ws[\"G4\"] = \"0001\"\n",
        "\n",
        "# 表ヘッダー\n",
        "ws[\"B10\"] = \"商品名\"\n",
        "ws[\"C10\"] = \"数量\"\n",
        "ws[\"D10\"] = \"単価\"\n",
        "ws[\"E10\"] = \"金額\"\n",
        "\n",
        "# 商品明細\n",
        "ws[\"B11\"] = \"商品A\"\n",
        "ws[\"C11\"] = 2\n",
        "ws[\"D11\"] = 10000\n",
        "ws[\"E11\"] = 20000\n",
        "\n",
        "ws[\"B12\"] = \"商品B\"\n",
        "ws[\"C12\"] = 1\n",
        "ws[\"D12\"] = 15000\n",
        "ws[\"E12\"] = 15000\n",
        "\n",
        "# 小計\n",
        "ws[\"E13\"] = 35000\n",
        "\n",
        "# 合計部分\n",
        "ws[\"B15\"] = \"合計\"\n",
        "ws[\"E15\"] = 35000\n",
        "\n",
        "ws[\"B16\"] = \"消費税\"\n",
        "ws[\"E16\"] = 3500\n",
        "\n",
        "ws[\"B17\"] = \"税込合計\"\n",
        "ws[\"E17\"] = 38500\n",
        "\n",
        "# 書式設定（中央揃えやタイトルを大きく）\n",
        "ws[\"B2\"].font = Font(size=16, bold=True)\n",
        "ws[\"B2\"].alignment = Alignment(horizontal=\"center\")\n",
        "ws.merge_cells(\"B2:E2\")\n",
        "\n",
        "# ★追加部分：セル結合（B5:E5, B6:E6, B7:E7）\n",
        "ws.merge_cells(\"B5:E5\")\n",
        "ws.merge_cells(\"B6:E6\")\n",
        "ws.merge_cells(\"B7:E7\")\n",
        "\n",
        "# 保存\n",
        "wb.save(\"請求書_20250829.xlsx\")\n"
      ],
      "metadata": {
        "id": "aGG9CltOGSrv"
      },
      "execution_count": 8,
      "outputs": []
    }
  ]
}